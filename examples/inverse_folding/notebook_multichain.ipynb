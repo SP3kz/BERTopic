{
  "cells": [
    {
      "cell_type": "markdown",
      "metadata": {
        "id": "view-in-github",
        "colab_type": "text"
      },
      "source": [
        "<a href=\"https://colab.research.google.com/github/SP3kz/BERTopic/blob/master/examples/inverse_folding/notebook_multichain.ipynb\" target=\"_parent\"><img src=\"https://colab.research.google.com/assets/colab-badge.svg\" alt=\"Open In Colab\"/></a>"
      ]
    },
    {
      "cell_type": "markdown",
      "id": "43GQPw7R_ZbY",
      "metadata": {
        "id": "43GQPw7R_ZbY"
      },
      "source": [
        "# Inverse folding with ESM-IF1\n",
        "\n",
        "The ESM-IF1 inverse folding model is built for predicting protein sequences from their backbone atom coordinates. We provide examples here 1) to sample sequence designs for a given structure and 2) to score sequences for a given structure.\n",
        "\n",
        "Trained with 12M protein structures predicted by AlphaFold2, the ESM-IF1 model consists of invariant geometric input processing layers followed by a sequence-to-sequence transformer, and achieves 51% native sequence recovery on structurally held-out backbones. The model is also trained with span masking to tolerate missing backbone coordinates and therefore can predict sequences for partially masked structures.\n",
        "\n",
        "See [GitHub README](https://github.com/facebookresearch/esm/tree/main/examples/inverse_folding) for the complete user guide, and see our [bioRxiv pre-print](https://doi.org/10.1101/2022.04.10.487779) for more details."
      ]
    },
    {
      "cell_type": "markdown",
      "id": "8c6TDUVupgNn",
      "metadata": {
        "id": "8c6TDUVupgNn"
      },
      "source": [
        "## Environment setup (colab)\n",
        "This step might take up to 10 minutes the first time.\n",
        "\n",
        "If using a local jupyter environment, instead of the following, we recommend configuring a conda environment upon first use in command line:\n",
        "```\n",
        "conda create -n inverse python=3.9\n",
        "conda activate inverse\n",
        "conda install pytorch cudatoolkit=11.3 -c pytorch\n",
        "conda install pyg -c pyg -c conda-forge\n",
        "conda install pip\n",
        "pip install biotite\n",
        "pip install git+https://github.com/facebookresearch/esm.git\n",
        "```\n",
        "\n",
        "Afterwards, `conda activate inverse` to activate this environment before starting `jupyter notebook`.\n",
        "\n",
        "Below is the setup for colab notebooks:\n",
        "\n",
        "We recommend using GPU runtimes on colab (Menu bar -> Runtime -> Change runtime type -> Hardware accelerator -> GPU)"
      ]
    },
    {
      "cell_type": "code",
      "execution_count": null,
      "id": "nLOymXwdwUXo",
      "metadata": {
        "colab": {
          "base_uri": "https://localhost:8080/"
        },
        "id": "nLOymXwdwUXo",
        "outputId": "93914258-b5e8-497c-817b-30aab9ab3852"
      },
      "outputs": [
        {
          "output_type": "stream",
          "name": "stdout",
          "text": [
            "\u001b[?25l     \u001b[90m━━━━━━━━━━━━━━━━━━━━━━━━━━━━━━━━━━━━━━━━\u001b[0m \u001b[32m0.0/10.8 MB\u001b[0m \u001b[31m?\u001b[0m eta \u001b[36m-:--:--\u001b[0m\r\u001b[2K     \u001b[91m━━━━━━━━━━━━━━━━━\u001b[0m\u001b[91m╸\u001b[0m\u001b[90m━━━━━━━━━━━━━━━━━━━━━━\u001b[0m \u001b[32m4.7/10.8 MB\u001b[0m \u001b[31m142.0 MB/s\u001b[0m eta \u001b[36m0:00:01\u001b[0m\r\u001b[2K     \u001b[91m━━━━━━━━━━━━━━━━━━━━━━━━━━━━━━━━━━━━━━\u001b[0m\u001b[91m╸\u001b[0m \u001b[32m10.8/10.8 MB\u001b[0m \u001b[31m219.1 MB/s\u001b[0m eta \u001b[36m0:00:01\u001b[0m\r\u001b[2K     \u001b[90m━━━━━━━━━━━━━━━━━━━━━━━━━━━━━━━━━━━━━━━\u001b[0m \u001b[32m10.8/10.8 MB\u001b[0m \u001b[31m127.2 MB/s\u001b[0m eta \u001b[36m0:00:00\u001b[0m\n",
            "\u001b[?25h"
          ]
        }
      ],
      "source": [
        "# Colab environment setup\n",
        "\n",
        "# Install the correct version of Pytorch Geometric.\n",
        "import torch\n",
        "\n",
        "def format_pytorch_version(version):\n",
        "  return version.split('+')[0]\n",
        "\n",
        "TORCH_version = torch.__version__\n",
        "TORCH = format_pytorch_version(TORCH_version)\n",
        "\n",
        "def format_cuda_version(version):\n",
        "  return 'cu' + version.replace('.', '')\n",
        "\n",
        "CUDA_version = torch.version.cuda\n",
        "CUDA = format_cuda_version(CUDA_version)\n",
        "\n",
        "!pip install -q torch-scatter -f https://data.pyg.org/whl/torch-{TORCH}+{CUDA}.html\n",
        "!pip install -q torch-sparse -f https://data.pyg.org/whl/torch-{TORCH}+{CUDA}.html\n",
        "!pip install -q torch-cluster -f https://data.pyg.org/whl/torch-{TORCH}+{CUDA}.html\n",
        "!pip install -q torch-spline-conv -f https://data.pyg.org/whl/torch-{TORCH}+{CUDA}.html\n",
        "!pip install -q torch-geometric\n",
        "\n",
        "# Install esm\n",
        "!pip install -q git+https://github.com/facebookresearch/esm.git\n",
        "\n",
        "# Install biotite\n",
        "!pip install -q biotite"
      ]
    },
    {
      "cell_type": "markdown",
      "id": "EhDI4ZIX0Z4w",
      "metadata": {
        "id": "EhDI4ZIX0Z4w"
      },
      "source": [
        "### Verify that pytorch-geometric is correctly installed\n",
        "\n",
        "If the notebook crashes at the import, there is likely an issue with the version of torch_geometric and torch_sparse being incompatible with the torch version."
      ]
    },
    {
      "cell_type": "code",
      "execution_count": null,
      "id": "1-HvBXt1wWPu",
      "metadata": {
        "id": "1-HvBXt1wWPu"
      },
      "outputs": [],
      "source": [
        "## Verify that pytorch-geometric is correctly installed\n",
        "import torch_geometric\n",
        "import torch_sparse\n",
        "from torch_geometric.nn import MessagePassing"
      ]
    },
    {
      "cell_type": "markdown",
      "id": "18544eee",
      "metadata": {
        "id": "18544eee"
      },
      "source": [
        "## Load model\n",
        "This steps takes a few minutes for the model to download"
      ]
    },
    {
      "cell_type": "code",
      "execution_count": null,
      "id": "14d8f393",
      "metadata": {
        "id": "14d8f393"
      },
      "outputs": [],
      "source": [
        "import esm\n",
        "model, alphabet = esm.pretrained.esm_if1_gvp4_t16_142M_UR50()\n",
        "# use eval mode for deterministic output e.g. without random dropout\n",
        "model = model.eval()"
      ]
    },
    {
      "cell_type": "markdown",
      "id": "2a6ed9bb",
      "metadata": {
        "id": "2a6ed9bb"
      },
      "source": [
        "## Load structure from PDB or CIF files\n",
        "\n",
        "As an example, let's look at Golgi Casein Kinase, the [PDB Molecule of the Month from January 2022](https://pdb101.rcsb.org/motm/265).\n",
        "\n",
        "Milk is a complex mixture of proteins, fats, and nutrients that provides everything that a growing infant needs. Most of the protein in cow’s milk is casein, whereas human milk has lesser amounts of casein.\n",
        "\n",
        "The Golgi casein kinase (PDB entry 5YH2) adds phosphates to casein and also to many other types of secreted proteins. It is most active as a complex of two similar types of proteins. Fam20C is the catalytic subunit. It binds to casein and transfers a phosphate from ATP to the protein.\n",
        "\n",
        "In this example, let's load chains A, B, C, and D, and try to redesign chain A.\n",
        "\n",
        "You may also upload your own CIF or PDB file and specify the chain id."
      ]
    },
    {
      "cell_type": "code",
      "execution_count": null,
      "id": "a8hwuySfBDig",
      "metadata": {
        "id": "a8hwuySfBDig"
      },
      "outputs": [],
      "source": [
        "!wget https://files.rcsb.org/download/5YH2.cif -P data/    # save this to the data folder in colab"
      ]
    },
    {
      "cell_type": "markdown",
      "id": "h7EdhncQCWtU",
      "metadata": {
        "id": "h7EdhncQCWtU"
      },
      "source": [
        "Load chains A, B, C, D from this CIF file:"
      ]
    },
    {
      "cell_type": "code",
      "execution_count": null,
      "id": "f4d17649",
      "metadata": {
        "id": "f4d17649"
      },
      "outputs": [],
      "source": [
        "fpath = 'data/5YH2.cif' # .pdb format is also acceptable\n",
        "chain_ids = ['A', 'B', 'C', 'D']\n",
        "structure = esm.inverse_folding.util.load_structure(fpath, chain_ids)\n",
        "coords, native_seqs = esm.inverse_folding.multichain_util.extract_coords_from_complex(structure)\n",
        "\n",
        "print(f'Loaded chains: {list(coords.keys())}\\n')\n",
        "\n",
        "for chain_id in chain_ids:\n",
        "    print(f'Chain {chain_id} native sequence:')\n",
        "    print(native_seqs[chain_id])\n",
        "    print('\\n')"
      ]
    },
    {
      "cell_type": "markdown",
      "id": "2YmG4jc5CCUJ",
      "metadata": {
        "id": "2YmG4jc5CCUJ"
      },
      "source": [
        "Visualize chain A in this CIF file:"
      ]
    },
    {
      "cell_type": "code",
      "execution_count": null,
      "id": "V4BbLME4DbZQ",
      "metadata": {
        "id": "V4BbLME4DbZQ"
      },
      "outputs": [],
      "source": [
        "!pip install -q py3Dmol"
      ]
    },
    {
      "cell_type": "code",
      "execution_count": null,
      "id": "PDUHDRMMBbZu",
      "metadata": {
        "id": "PDUHDRMMBbZu"
      },
      "outputs": [],
      "source": [
        "try:\n",
        "    import py3Dmol\n",
        "\n",
        "    def view_pdb(fpath, chain_ids, colors=['red','blue','green']):\n",
        "        with open(fpath) as ifile:\n",
        "            system = \"\".join([x for x in ifile])\n",
        "\n",
        "        view = py3Dmol.view(width=600, height=400)\n",
        "        view.addModelsAsFrames(system)\n",
        "        for chain_id, color in zip(chain_ids, colors):\n",
        "            view.setStyle({'model': -1, 'chain': chain_id}, {\"cartoon\": {'color': color}})\n",
        "        view.zoomTo()\n",
        "        view.show()\n",
        "\n",
        "except ImportError:\n",
        "    def view_pdb(fpath, chain_id):\n",
        "        print(\"Install py3Dmol to visualize, or use pymol\")"
      ]
    },
    {
      "cell_type": "code",
      "execution_count": null,
      "id": "Q9MJYWMJJxVx",
      "metadata": {
        "id": "Q9MJYWMJJxVx"
      },
      "outputs": [],
      "source": [
        "view_pdb(fpath, ['A'])"
      ]
    },
    {
      "cell_type": "markdown",
      "id": "oKqm6n9HCk4Q",
      "metadata": {
        "id": "oKqm6n9HCk4Q"
      },
      "source": [
        "## Sample sequence and calculate sequence recovery:"
      ]
    },
    {
      "cell_type": "code",
      "execution_count": null,
      "id": "99d74757",
      "metadata": {
        "id": "99d74757"
      },
      "outputs": [],
      "source": [
        "import numpy as np\n",
        "\n",
        "target_chain_id = 'A'\n",
        "sampled_seq = esm.inverse_folding.multichain_util.sample_sequence_in_complex(\n",
        "    model, coords, target_chain_id, temperature=1.)\n",
        "\n",
        "recovery = np.mean([(a==b) for a, b in zip(native_seqs[target_chain_id], sampled_seq)])\n",
        "print('Sequence recovery:', recovery)"
      ]
    },
    {
      "cell_type": "code",
      "execution_count": null,
      "id": "3af7d869",
      "metadata": {
        "id": "3af7d869"
      },
      "outputs": [],
      "source": [
        "# Lower sampling temperature typically results in higher sequence recovery but less diversity\n",
        "\n",
        "target_chain_id = 'A'\n",
        "sampled_seq = esm.inverse_folding.multichain_util.sample_sequence_in_complex(\n",
        "    model, coords, target_chain_id, temperature=1e-6)\n",
        "\n",
        "recovery = np.mean([(a==b) for a, b in zip(native_seqs[target_chain_id], sampled_seq)])\n",
        "print('Sequence recovery:', recovery)"
      ]
    },
    {
      "cell_type": "markdown",
      "id": "310b282a",
      "metadata": {
        "id": "310b282a"
      },
      "source": [
        "## Conditional sequence log-likelihoods for given backbone coordinates\n",
        "\n",
        "The log-likelihood scores could be used to predict mutational effects. See also our [script](https://github.com/facebookresearch/esm/tree/main/examples/inverse_folding#scoring-sequences) for batch scoring,"
      ]
    },
    {
      "cell_type": "code",
      "execution_count": null,
      "id": "2e8bf940",
      "metadata": {
        "id": "2e8bf940"
      },
      "outputs": [],
      "source": [
        "target_chain_id = 'A'\n",
        "target_seq = native_seqs[target_chain_id]\n",
        "ll_fullseq, ll_withcoord = esm.inverse_folding.multichain_util.score_sequence_in_complex(\n",
        "    model, alphabet, coords, target_chain_id, target_seq, padding_length=10)\n",
        "print(f'average log-likelihood on entire sequence: {ll_fullseq:.2f} (perplexity {np.exp(-ll_fullseq):.2f})')\n",
        "print(f'average log-likelihood excluding missing coordinates: {ll_withcoord:.2f} (perplexity {np.exp(-ll_withcoord):.2f})')"
      ]
    },
    {
      "cell_type": "markdown",
      "id": "9ab34ef2",
      "metadata": {
        "id": "9ab34ef2"
      },
      "source": [
        "## Masking part of the backbone coordinates\n",
        "To partially mask backbone coordinates, simply set the masked coordinates to np.inf.\n",
        "\n",
        "Typically, the sequence perplexity will be higher on masked regions than on unmasked regions."
      ]
    },
    {
      "cell_type": "code",
      "execution_count": null,
      "id": "4539a9cb",
      "metadata": {
        "id": "4539a9cb"
      },
      "outputs": [],
      "source": [
        "target_chain_id = 'A'\n",
        "target_seq = native_seqs[target_chain_id]\n",
        "\n",
        "from copy import deepcopy\n",
        "masked_coords = deepcopy(coords)\n",
        "masked_coords[target_chain_id][:15] = np.inf # mask the first 15 residues\n",
        "\n",
        "ll_fullseq, ll_withcoord = esm.inverse_folding.multichain_util.score_sequence_in_complex(\n",
        "    model, alphabet, masked_coords, target_chain_id, target_seq, padding_length=10)\n",
        "print(f'average log-likelihood on entire sequence: {ll_fullseq:.2f} (perplexity {np.exp(-ll_fullseq):.2f})')\n",
        "print(f'average log-likelihood excluding missing coordinates: {ll_withcoord:.2f} (perplexity {np.exp(-ll_withcoord):.2f})')"
      ]
    },
    {
      "cell_type": "markdown",
      "id": "17cb6adc",
      "metadata": {
        "id": "17cb6adc"
      },
      "source": [
        "## Extract encoder output as structure representation\n",
        "The encoder output may also be used as a representation for the structure.\n",
        "\n",
        "For a set of input coordinates with L amino acids, the encoder output will have shape L x 512."
      ]
    },
    {
      "cell_type": "code",
      "execution_count": null,
      "id": "0561236d",
      "metadata": {
        "id": "0561236d"
      },
      "outputs": [],
      "source": [
        "target_chain_id = 'A'\n",
        "rep = esm.inverse_folding.multichain_util.get_encoder_output_for_complex(model, alphabet, coords, target_chain_id)\n",
        "len(coords[target_chain_id]), rep.shape"
      ]
    }
  ],
  "metadata": {
    "accelerator": "GPU",
    "colab": {
      "name": "Inverse Folding with ESM-IF1.ipynb",
      "provenance": [],
      "include_colab_link": true
    },
    "kernelspec": {
      "display_name": "Python 3 (ipykernel)",
      "language": "python",
      "name": "python3"
    },
    "language_info": {
      "codemirror_mode": {
        "name": "ipython",
        "version": 3
      },
      "file_extension": ".py",
      "mimetype": "text/x-python",
      "name": "python",
      "nbconvert_exporter": "python",
      "pygments_lexer": "ipython3",
      "version": "3.9.7"
    }
  },
  "nbformat": 4,
  "nbformat_minor": 5
}